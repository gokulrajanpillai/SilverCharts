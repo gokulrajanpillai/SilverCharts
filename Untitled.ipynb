{
 "cells": [
  {
   "cell_type": "code",
   "execution_count": 6,
   "id": "8570a725-34ee-48af-b005-b1f7fb89fd41",
   "metadata": {},
   "outputs": [
    {
     "name": "stderr",
     "output_type": "stream",
     "text": [
      "[*********************100%***********************]  1 of 1 completed"
     ]
    },
    {
     "name": "stdout",
     "output_type": "stream",
     "text": [
      "Sunday night peaks in the past year:\n",
      "Price            High\n",
      "Ticker           SI=F\n",
      "2023-11-05  23.360001\n",
      "2023-11-12  22.395000\n",
      "2023-11-19  23.870001\n",
      "2023-11-26  24.879999\n",
      "2023-12-03  26.340000\n",
      "2023-12-10  23.400000\n",
      "2023-12-17  24.235001\n",
      "2024-01-07  23.405001\n",
      "2024-01-14  23.500000\n",
      "2024-01-21  22.775000\n",
      "2024-01-28  23.110001\n",
      "2024-02-04  22.840000\n",
      "2024-02-11  22.799999\n",
      "2024-02-18  23.510000\n",
      "2024-02-25  22.980000\n",
      "2024-03-03  23.395000\n",
      "2024-03-10  24.670000\n",
      "2024-03-17  25.410000\n",
      "2024-03-24  25.049999\n",
      "2024-03-31  25.415001\n",
      "2024-04-07  28.195000\n",
      "2024-04-14  28.445000\n",
      "2024-04-21  28.795000\n",
      "2024-04-28  27.565001\n",
      "2024-05-05  27.250000\n",
      "2024-05-12  28.459999\n",
      "2024-05-19  32.750000\n",
      "2024-05-26  31.070000\n",
      "2024-06-02  30.795000\n",
      "2024-06-09  29.670000\n",
      "2024-06-16  29.650000\n",
      "2024-06-23  29.665001\n",
      "2024-06-30  29.469999\n",
      "2024-07-07  31.670000\n",
      "2024-07-14  31.184999\n",
      "2024-07-21  29.615000\n",
      "2024-07-28  28.334999\n",
      "2024-08-04  28.775000\n",
      "2024-08-11  27.565001\n",
      "2024-08-18  29.174999\n",
      "2024-08-25  29.959999\n",
      "2024-09-01  29.350000\n",
      "2024-09-08  28.445000\n",
      "2024-09-15  31.370001\n",
      "2024-09-22  31.549999\n",
      "2024-09-29  32.150002\n",
      "2024-10-06  32.595001\n",
      "2024-10-13  31.730000\n",
      "2024-10-20  34.330002\n",
      "2024-10-27  33.860001\n",
      "2024-11-03  32.794998\n"
     ]
    },
    {
     "name": "stderr",
     "output_type": "stream",
     "text": [
      "\n"
     ]
    }
   ],
   "source": [
    "import yfinance as yf\n",
    "import pandas as pd\n",
    "# Fetch silver futures data for the past year\n",
    "silver_data = yf.download(\"SI=F\", period=\"1y\", interval=\"1h\")  # Using 1-hour intervals\n",
    "silver_data.dropna(inplace=True)  # Remove any missing values\n",
    "silver_data.head()  # Display the first few rows to confirm data download\n",
    "\n",
    "# Convert index to datetime and set timezone\n",
    "silver_data.index = silver_data.index.tz_convert('US/Eastern')\n",
    "\n",
    "# Filter for Sunday night data (5 p.m. to midnight ET)\n",
    "sunday_night_data = silver_data[(silver_data.index.weekday == 6) & (silver_data.index.hour >= 17)]\n",
    "sunday_night_data.head()  # Display to confirm filtering\n",
    "\n",
    "# Find the peak price for each Sunday night\n",
    "sunday_peaks = sunday_night_data.groupby(sunday_night_data.index.date)['High'].max()\n",
    "# sunday_peaks = sunday_peaks.rename(\"Sunday Night Peak Price\")\n",
    "sunday_peaks.head()\n",
    "\n",
    "# Display the Sunday night peaks\n",
    "print(\"Sunday night peaks in the past year:\")\n",
    "print(sunday_peaks)\n"
   ]
  },
  {
   "cell_type": "code",
   "execution_count": null,
   "id": "d68571d9-f544-4820-9d8a-717d5ae306f1",
   "metadata": {},
   "outputs": [],
   "source": []
  }
 ],
 "metadata": {
  "kernelspec": {
   "display_name": "Python 3 (ipykernel)",
   "language": "python",
   "name": "python3"
  },
  "language_info": {
   "codemirror_mode": {
    "name": "ipython",
    "version": 3
   },
   "file_extension": ".py",
   "mimetype": "text/x-python",
   "name": "python",
   "nbconvert_exporter": "python",
   "pygments_lexer": "ipython3",
   "version": "3.10.0"
  }
 },
 "nbformat": 4,
 "nbformat_minor": 5
}
